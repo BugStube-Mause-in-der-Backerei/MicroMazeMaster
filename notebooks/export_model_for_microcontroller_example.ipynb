{
 "cells": [
  {
   "cell_type": "markdown",
   "metadata": {},
   "source": [
    "## Prepare"
   ]
  },
  {
   "cell_type": "code",
   "execution_count": null,
   "metadata": {},
   "outputs": [],
   "source": [
    "import os\n",
    "from pathlib import PurePath, Path\n",
    "os.environ[\"MICROMAZEMASTER_ENV\"] = \"testing\"\n",
    "WORKING_DIR = PurePath(os.getcwd()).parent\n",
    "os.chdir(WORKING_DIR)\n",
    "\n",
    "import matplotlib.pyplot as plt\n",
    "import torch\n",
    "import torch.nn as nn\n",
    "import torch.nn.functional as F\n",
    "from tqdm.rich import trange\n",
    "\n",
    "from micromazemaster.utils.logging import logger\n",
    "from micromazemaster.utils.tflite import convert_onnx_to_tflite, convert_tflite_to_header, convert_pytorch_to_onnx\n",
    "\n",
    "logger.info(f\"Current working directory: {WORKING_DIR}\")\n",
    "\n",
    "Path(WORKING_DIR/\"local_data\").mkdir(exist_ok=True)"
   ]
  },
  {
   "cell_type": "markdown",
   "metadata": {},
   "source": [
    "## Train a model"
   ]
  },
  {
   "cell_type": "code",
   "execution_count": null,
   "metadata": {},
   "outputs": [],
   "source": [
    "f = lambda x: torch.sin(x)\n",
    "\n",
    "x = torch.linspace(0, 12.5, 128)\n",
    "\n",
    "\n",
    "# Define the neural network\n",
    "class Net(nn.Module):\n",
    "    def __init__(self):\n",
    "        super(Net, self).__init__()\n",
    "        self.hidden1 = nn.Linear(1, 64)\n",
    "        self.hidden2 = nn.Linear(64, 128)\n",
    "        self.output = nn.Linear(128, 1)\n",
    "\n",
    "    def forward(self, x):\n",
    "        x = F.relu(self.hidden1(x))\n",
    "        x = F.relu(self.hidden2(x))\n",
    "        x = self.output(x)\n",
    "        return x\n",
    "\n",
    "\n",
    "model_fp32 = Net()\n",
    "criterion = nn.MSELoss()\n",
    "optimizer = torch.optim.Adam(model_fp32.parameters(), lr=0.01)  # Using Adam optimizer\n",
    "\n",
    "for epoch in trange(100000, desc=\"Training\"):\n",
    "    running_loss = 0.0\n",
    "    optimizer.zero_grad()\n",
    "    outputs = model_fp32(x.unsqueeze(1))\n",
    "    loss = criterion(outputs.squeeze(), f(x))\n",
    "    loss.backward()\n",
    "    optimizer.step()\n",
    "    running_loss += loss.item()\n",
    "\n",
    "    if epoch % 10000 == 0:\n",
    "        logger.info(\"Epoch {}: Loss = {}\".format(epoch, loss.detach().numpy()))\n",
    "\n",
    "\n",
    "# Plot the actual function and predicted function\n",
    "actual_y = torch.tensor([f(p) for p in x])\n",
    "predicted_y = model_fp32(x.unsqueeze(1)).squeeze()\n",
    "plt.plot(x, actual_y, \"g\", label=\"Actual Function\")\n",
    "plt.plot(x, predicted_y.detach().numpy(), \"b\", label=\"Predicted Function\")\n",
    "plt.legend()\n",
    "plt.show()"
   ]
  },
  {
   "cell_type": "markdown",
   "metadata": {},
   "source": [
    "## Save the model to onnx"
   ]
  },
  {
   "cell_type": "code",
   "execution_count": null,
   "metadata": {},
   "outputs": [],
   "source": [
    "# model has 1 input in 1 Dimension\n",
    "torch_input = torch.randn(1, 1)\n",
    "\n",
    "convert_pytorch_to_onnx(model_fp32, torch_input, \"local_data/model.onnx\")"
   ]
  },
  {
   "cell_type": "markdown",
   "metadata": {},
   "source": [
    "## Convert from onnx to tflite format"
   ]
  },
  {
   "cell_type": "code",
   "execution_count": null,
   "metadata": {},
   "outputs": [],
   "source": [
    "convert_onnx_to_tflite(\"local_data/model.onnx\", \"local_data/saved_model\")"
   ]
  },
  {
   "cell_type": "markdown",
   "metadata": {},
   "source": [
    "## Convert from tflite to header c-array for inference on Microcontroller"
   ]
  },
  {
   "cell_type": "code",
   "execution_count": null,
   "metadata": {},
   "outputs": [],
   "source": [
    "convert_tflite_to_header(\"local_data/saved_model/model_float32.tflite\", \"local_data/model_float32.h\")"
   ]
  }
 ],
 "metadata": {
  "kernelspec": {
   "display_name": ".venv",
   "language": "python",
   "name": "python3"
  },
  "language_info": {
   "codemirror_mode": {
    "name": "ipython",
    "version": 3
   },
   "file_extension": ".py",
   "mimetype": "text/x-python",
   "name": "python",
   "nbconvert_exporter": "python",
   "pygments_lexer": "ipython3",
   "version": "3.12.7"
  }
 },
 "nbformat": 4,
 "nbformat_minor": 2
}
