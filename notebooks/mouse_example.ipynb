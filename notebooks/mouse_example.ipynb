{
 "cells": [
  {
   "cell_type": "code",
   "execution_count": 1,
   "id": "initial_id",
   "metadata": {
    "dotnet_interactive": {
     "language": "csharp"
    },
    "polyglot_notebook": {
     "kernelName": "csharp"
    }
   },
   "outputs": [
    {
     "name": "stderr",
     "output_type": "stream",
     "text": [
      "2024-11-19 16:32:41.616 - [INFO] - [ Using Environment ]\t DEVELOPMENT\n"
     ]
    },
    {
     "data": {
      "text/html": [
       "<pre style=\"white-space:pre;overflow-x:auto;line-height:normal;font-family:Menlo,'DejaVu Sans Mono',consolas,'Courier New',monospace\">\n",
       "\n",
       "    __  ____                 __  ___                 __  ___           __           \n",
       "   <span style=\"color: #800080; text-decoration-color: #800080\">/</span>  |<span style=\"color: #800080; text-decoration-color: #800080\">/</span>  <span style=\"font-weight: bold\">(</span>_<span style=\"font-weight: bold\">)</span>_____________  <span style=\"color: #800080; text-decoration-color: #800080\">/</span>  |<span style=\"color: #800080; text-decoration-color: #800080\">/</span>  <span style=\"color: #800080; text-decoration-color: #800080\">/</span><span style=\"color: #ff00ff; text-decoration-color: #ff00ff\">___</span> _____  ___  <span style=\"color: #800080; text-decoration-color: #800080\">/</span>  |<span style=\"color: #800080; text-decoration-color: #800080\">/</span>  <span style=\"color: #800080; text-decoration-color: #800080\">/</span><span style=\"color: #ff00ff; text-decoration-color: #ff00ff\">___</span> ______/ <span style=\"color: #800080; text-decoration-color: #800080\">/</span><span style=\"color: #ff00ff; text-decoration-color: #ff00ff\">____</span>  _____\n",
       "  <span style=\"color: #800080; text-decoration-color: #800080\">/</span> <span style=\"color: #800080; text-decoration-color: #800080\">/</span>|_/ <span style=\"color: #800080; text-decoration-color: #800080\">/</span> <span style=\"color: #800080; text-decoration-color: #800080\">/</span> ___/ ___/ __ \\<span style=\"color: #800080; text-decoration-color: #800080\">/</span> <span style=\"color: #800080; text-decoration-color: #800080\">/</span>|_/ <span style=\"color: #800080; text-decoration-color: #800080\">/</span> __ `<span style=\"color: #800080; text-decoration-color: #800080\">/</span><span style=\"color: #ff00ff; text-decoration-color: #ff00ff\">_</span>  <span style=\"color: #800080; text-decoration-color: #800080\">/</span> <span style=\"color: #800080; text-decoration-color: #800080\">/</span> _ \\<span style=\"color: #800080; text-decoration-color: #800080\">/</span> <span style=\"color: #800080; text-decoration-color: #800080\">/</span>|_/ <span style=\"color: #800080; text-decoration-color: #800080\">/</span> __ `<span style=\"color: #800080; text-decoration-color: #800080\">/</span> ___/ __/ _ \\<span style=\"color: #800080; text-decoration-color: #800080\">/</span> ___/\n",
       " <span style=\"color: #800080; text-decoration-color: #800080\">/</span> <span style=\"color: #800080; text-decoration-color: #800080\">/</span>  <span style=\"color: #800080; text-decoration-color: #800080\">/</span> <span style=\"color: #800080; text-decoration-color: #800080\">/</span> <span style=\"color: #800080; text-decoration-color: #800080\">/</span> <span style=\"color: #800080; text-decoration-color: #800080\">/__/</span> <span style=\"color: #800080; text-decoration-color: #800080\">/</span>  <span style=\"color: #800080; text-decoration-color: #800080\">/</span> <span style=\"color: #800080; text-decoration-color: #800080\">/_/</span> <span style=\"color: #800080; text-decoration-color: #800080\">/</span> <span style=\"color: #800080; text-decoration-color: #800080\">/</span>  <span style=\"color: #800080; text-decoration-color: #800080\">/</span> <span style=\"color: #800080; text-decoration-color: #800080\">/</span> <span style=\"color: #800080; text-decoration-color: #800080\">/_/</span> <span style=\"color: #800080; text-decoration-color: #800080\">/</span> <span style=\"color: #800080; text-decoration-color: #800080\">/</span> <span style=\"color: #800080; text-decoration-color: #800080\">/_/</span>  __/ <span style=\"color: #800080; text-decoration-color: #800080\">/</span>  <span style=\"color: #800080; text-decoration-color: #800080\">/</span> <span style=\"color: #800080; text-decoration-color: #800080\">/</span> <span style=\"color: #800080; text-decoration-color: #800080\">/_/</span> <span style=\"font-weight: bold\">(</span>__  <span style=\"font-weight: bold\">)</span> <span style=\"color: #800080; text-decoration-color: #800080\">/_/</span>  __/ <span style=\"color: #800080; text-decoration-color: #800080\">/</span>    \n",
       "<span style=\"color: #800080; text-decoration-color: #800080\">/_/</span>  <span style=\"color: #800080; text-decoration-color: #800080\">/_/_/</span>\\___/_/   \\____/_/  <span style=\"color: #800080; text-decoration-color: #800080\">/_/</span>\\__,_/ <span style=\"color: #800080; text-decoration-color: #800080\">/___/</span>\\___/_/  <span style=\"color: #800080; text-decoration-color: #800080\">/_/</span>\\__,_/____/\\__/\\___/_/     \n",
       "\n",
       "<span style=\"color: #008080; text-decoration-color: #008080; font-weight: bold\">0.1</span>.<span style=\"color: #008080; text-decoration-color: #008080; font-weight: bold\">0</span>\n",
       "\n",
       "</pre>\n"
      ],
      "text/plain": [
       "\n",
       "\n",
       "    __  ____                 __  ___                 __  ___           __           \n",
       "   \u001b[35m/\u001b[0m  |\u001b[35m/\u001b[0m  \u001b[1m(\u001b[0m_\u001b[1m)\u001b[0m_____________  \u001b[35m/\u001b[0m  |\u001b[35m/\u001b[0m  \u001b[35m/\u001b[0m\u001b[95m___\u001b[0m _____  ___  \u001b[35m/\u001b[0m  |\u001b[35m/\u001b[0m  \u001b[35m/\u001b[0m\u001b[95m___\u001b[0m ______/ \u001b[35m/\u001b[0m\u001b[95m____\u001b[0m  _____\n",
       "  \u001b[35m/\u001b[0m \u001b[35m/\u001b[0m|_/ \u001b[35m/\u001b[0m \u001b[35m/\u001b[0m ___/ ___/ __ \\\u001b[35m/\u001b[0m \u001b[35m/\u001b[0m|_/ \u001b[35m/\u001b[0m __ `\u001b[35m/\u001b[0m\u001b[95m_\u001b[0m  \u001b[35m/\u001b[0m \u001b[35m/\u001b[0m _ \\\u001b[35m/\u001b[0m \u001b[35m/\u001b[0m|_/ \u001b[35m/\u001b[0m __ `\u001b[35m/\u001b[0m ___/ __/ _ \\\u001b[35m/\u001b[0m ___/\n",
       " \u001b[35m/\u001b[0m \u001b[35m/\u001b[0m  \u001b[35m/\u001b[0m \u001b[35m/\u001b[0m \u001b[35m/\u001b[0m \u001b[35m/__/\u001b[0m \u001b[35m/\u001b[0m  \u001b[35m/\u001b[0m \u001b[35m/_/\u001b[0m \u001b[35m/\u001b[0m \u001b[35m/\u001b[0m  \u001b[35m/\u001b[0m \u001b[35m/\u001b[0m \u001b[35m/_/\u001b[0m \u001b[35m/\u001b[0m \u001b[35m/\u001b[0m \u001b[35m/_/\u001b[0m  __/ \u001b[35m/\u001b[0m  \u001b[35m/\u001b[0m \u001b[35m/\u001b[0m \u001b[35m/_/\u001b[0m \u001b[1m(\u001b[0m__  \u001b[1m)\u001b[0m \u001b[35m/_/\u001b[0m  __/ \u001b[35m/\u001b[0m    \n",
       "\u001b[35m/_/\u001b[0m  \u001b[35m/_/_/\u001b[0m\\___/_/   \\____/_/  \u001b[35m/_/\u001b[0m\\__,_/ \u001b[35m/___/\u001b[0m\\___/_/  \u001b[35m/_/\u001b[0m\\__,_/____/\\__/\\___/_/     \n",
       "\n",
       "\u001b[1;36m0.1\u001b[0m.\u001b[1;36m0\u001b[0m\n",
       "\n"
      ]
     },
     "metadata": {},
     "output_type": "display_data"
    },
    {
     "name": "stdout",
     "output_type": "stream",
     "text": [
      "True\n",
      "False\n",
      "False\n"
     ]
    },
    {
     "data": {
      "image/png": "[encoded data removed]",
      "text/plain": [
       "<Figure size 1000x1000 with 1 Axes>"
      ]
     },
     "metadata": {},
     "output_type": "display_data"
    }
   ],
   "source": [
    "from micromazemaster.models.maze import Maze\n",
    "from micromazemaster.models.mouse import Mouse, Orientation\n",
    "import matplotlib.pyplot as plt\n",
    "import networkx as nx\n",
    "\n",
    "maze = Maze(width=10, height=10, seed=42)\n",
    "\n",
    "mouse = Mouse(x=0.5, y=0.5, orientation=Orientation.EAST, maze=maze)\n",
    "print(mouse.move_forward())\n",
    "mouse.orientation = Orientation.NORTH\n",
    "print(mouse.move_forward())\n",
    "mouse.orientation = Orientation.SOUTH\n",
    "print(mouse.move_forward())\n",
    "\n",
    "fig, ax = maze.plot()\n",
    "ax.plot(mouse.position[0], mouse.position[1], 'ro')\n",
    "plt.show()"
   ]
  }
 ],
 "metadata": {
  "kernelspec": {
   "display_name": ".venv",
   "language": "python",
   "name": "python3"
  },
  "language_info": {
   "codemirror_mode": {
    "name": "ipython",
    "version": 3
   },
   "file_extension": ".py",
   "mimetype": "text/x-python",
   "name": "python",
   "nbconvert_exporter": "python",
   "pygments_lexer": "ipython3",
   "version": "3.12.7"
  }
 },
 "nbformat": 4,
 "nbformat_minor": 5
}
