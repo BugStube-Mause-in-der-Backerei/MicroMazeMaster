{
 "cells": [
  {
   "cell_type": "code",
   "id": "initial_id",
   "metadata": {
    "collapsed": true,
    "ExecuteTime": {
     "end_time": "2024-11-18T12:43:10.595197Z",
     "start_time": "2024-11-18T12:43:10.035031Z"
    }
   },
   "source": [
    "from micromazemaster.models.maze import Maze\n",
    "from micromazemaster.models.mouse import Mouse, Orientation\n",
    "\n",
    "maze = Maze(width=10, height=5, seed=1234)\n",
    "maze.show()\n",
    "\n",
    "mouse = Mouse(x=0, y=0, orientation=Orientation.NORTH, maze=maze)\n",
    "mouse.move_forward()\n"
   ],
   "outputs": [
    {
     "name": "stderr",
     "output_type": "stream",
     "text": [
      "2024-11-18 13:43:10.386 - [INFO] - [ Using Environment ]\t DEVELOPMENT\n"
     ]
    },
    {
     "data": {
      "text/plain": [
       "\n",
       "\n",
       "    __  ____                 __  ___                 __  ___           __           \n",
       "   \u001B[35m/\u001B[0m  |\u001B[35m/\u001B[0m  \u001B[1m(\u001B[0m_\u001B[1m)\u001B[0m_____________  \u001B[35m/\u001B[0m  |\u001B[35m/\u001B[0m  \u001B[35m/\u001B[0m\u001B[95m___\u001B[0m _____  ___  \u001B[35m/\u001B[0m  |\u001B[35m/\u001B[0m  \u001B[35m/\u001B[0m\u001B[95m___\u001B[0m ______/ \u001B[35m/\u001B[0m\u001B[95m____\u001B[0m  _____\n",
       "  \u001B[35m/\u001B[0m \u001B[35m/\u001B[0m|_/ \u001B[35m/\u001B[0m \u001B[35m/\u001B[0m ___/ ___/ __ \\\u001B[35m/\u001B[0m \u001B[35m/\u001B[0m|_/ \u001B[35m/\u001B[0m __ `\u001B[35m/\u001B[0m\u001B[95m_\u001B[0m  \u001B[35m/\u001B[0m \u001B[35m/\u001B[0m _ \\\u001B[35m/\u001B[0m \u001B[35m/\u001B[0m|_/ \u001B[35m/\u001B[0m __ `\u001B[35m/\u001B[0m ___/ __/ _ \\\u001B[35m/\u001B[0m ___/\n",
       " \u001B[35m/\u001B[0m \u001B[35m/\u001B[0m  \u001B[35m/\u001B[0m \u001B[35m/\u001B[0m \u001B[35m/\u001B[0m \u001B[35m/__/\u001B[0m \u001B[35m/\u001B[0m  \u001B[35m/\u001B[0m \u001B[35m/_/\u001B[0m \u001B[35m/\u001B[0m \u001B[35m/\u001B[0m  \u001B[35m/\u001B[0m \u001B[35m/\u001B[0m \u001B[35m/_/\u001B[0m \u001B[35m/\u001B[0m \u001B[35m/\u001B[0m \u001B[35m/_/\u001B[0m  __/ \u001B[35m/\u001B[0m  \u001B[35m/\u001B[0m \u001B[35m/\u001B[0m \u001B[35m/_/\u001B[0m \u001B[1m(\u001B[0m__  \u001B[1m)\u001B[0m \u001B[35m/_/\u001B[0m  __/ \u001B[35m/\u001B[0m    \n",
       "\u001B[35m/_/\u001B[0m  \u001B[35m/_/_/\u001B[0m\\___/_/   \\____/_/  \u001B[35m/_/\u001B[0m\\__,_/ \u001B[35m/___/\u001B[0m\\___/_/  \u001B[35m/_/\u001B[0m\\__,_/____/\\__/\\___/_/     \n",
       "\n",
       "\u001B[1;36m0.1\u001B[0m.\u001B[1;36m0\u001B[0m\n",
       "\n"
      ],
      "text/html": [
       "<pre style=\"white-space:pre;overflow-x:auto;line-height:normal;font-family:Menlo,'DejaVu Sans Mono',consolas,'Courier New',monospace\">\n",
       "\n",
       "    __  ____                 __  ___                 __  ___           __           \n",
       "   <span style=\"color: #800080; text-decoration-color: #800080\">/</span>  |<span style=\"color: #800080; text-decoration-color: #800080\">/</span>  <span style=\"font-weight: bold\">(</span>_<span style=\"font-weight: bold\">)</span>_____________  <span style=\"color: #800080; text-decoration-color: #800080\">/</span>  |<span style=\"color: #800080; text-decoration-color: #800080\">/</span>  <span style=\"color: #800080; text-decoration-color: #800080\">/</span><span style=\"color: #ff00ff; text-decoration-color: #ff00ff\">___</span> _____  ___  <span style=\"color: #800080; text-decoration-color: #800080\">/</span>  |<span style=\"color: #800080; text-decoration-color: #800080\">/</span>  <span style=\"color: #800080; text-decoration-color: #800080\">/</span><span style=\"color: #ff00ff; text-decoration-color: #ff00ff\">___</span> ______/ <span style=\"color: #800080; text-decoration-color: #800080\">/</span><span style=\"color: #ff00ff; text-decoration-color: #ff00ff\">____</span>  _____\n",
       "  <span style=\"color: #800080; text-decoration-color: #800080\">/</span> <span style=\"color: #800080; text-decoration-color: #800080\">/</span>|_/ <span style=\"color: #800080; text-decoration-color: #800080\">/</span> <span style=\"color: #800080; text-decoration-color: #800080\">/</span> ___/ ___/ __ \\<span style=\"color: #800080; text-decoration-color: #800080\">/</span> <span style=\"color: #800080; text-decoration-color: #800080\">/</span>|_/ <span style=\"color: #800080; text-decoration-color: #800080\">/</span> __ `<span style=\"color: #800080; text-decoration-color: #800080\">/</span><span style=\"color: #ff00ff; text-decoration-color: #ff00ff\">_</span>  <span style=\"color: #800080; text-decoration-color: #800080\">/</span> <span style=\"color: #800080; text-decoration-color: #800080\">/</span> _ \\<span style=\"color: #800080; text-decoration-color: #800080\">/</span> <span style=\"color: #800080; text-decoration-color: #800080\">/</span>|_/ <span style=\"color: #800080; text-decoration-color: #800080\">/</span> __ `<span style=\"color: #800080; text-decoration-color: #800080\">/</span> ___/ __/ _ \\<span style=\"color: #800080; text-decoration-color: #800080\">/</span> ___/\n",
       " <span style=\"color: #800080; text-decoration-color: #800080\">/</span> <span style=\"color: #800080; text-decoration-color: #800080\">/</span>  <span style=\"color: #800080; text-decoration-color: #800080\">/</span> <span style=\"color: #800080; text-decoration-color: #800080\">/</span> <span style=\"color: #800080; text-decoration-color: #800080\">/</span> <span style=\"color: #800080; text-decoration-color: #800080\">/__/</span> <span style=\"color: #800080; text-decoration-color: #800080\">/</span>  <span style=\"color: #800080; text-decoration-color: #800080\">/</span> <span style=\"color: #800080; text-decoration-color: #800080\">/_/</span> <span style=\"color: #800080; text-decoration-color: #800080\">/</span> <span style=\"color: #800080; text-decoration-color: #800080\">/</span>  <span style=\"color: #800080; text-decoration-color: #800080\">/</span> <span style=\"color: #800080; text-decoration-color: #800080\">/</span> <span style=\"color: #800080; text-decoration-color: #800080\">/_/</span> <span style=\"color: #800080; text-decoration-color: #800080\">/</span> <span style=\"color: #800080; text-decoration-color: #800080\">/</span> <span style=\"color: #800080; text-decoration-color: #800080\">/_/</span>  __/ <span style=\"color: #800080; text-decoration-color: #800080\">/</span>  <span style=\"color: #800080; text-decoration-color: #800080\">/</span> <span style=\"color: #800080; text-decoration-color: #800080\">/</span> <span style=\"color: #800080; text-decoration-color: #800080\">/_/</span> <span style=\"font-weight: bold\">(</span>__  <span style=\"font-weight: bold\">)</span> <span style=\"color: #800080; text-decoration-color: #800080\">/_/</span>  __/ <span style=\"color: #800080; text-decoration-color: #800080\">/</span>    \n",
       "<span style=\"color: #800080; text-decoration-color: #800080\">/_/</span>  <span style=\"color: #800080; text-decoration-color: #800080\">/_/_/</span>\\___/_/   \\____/_/  <span style=\"color: #800080; text-decoration-color: #800080\">/_/</span>\\__,_/ <span style=\"color: #800080; text-decoration-color: #800080\">/___/</span>\\___/_/  <span style=\"color: #800080; text-decoration-color: #800080\">/_/</span>\\__,_/____/\\__/\\___/_/     \n",
       "\n",
       "<span style=\"color: #008080; text-decoration-color: #008080; font-weight: bold\">0.1</span>.<span style=\"color: #008080; text-decoration-color: #008080; font-weight: bold\">0</span>\n",
       "\n",
       "</pre>\n"
      ]
     },
     "metadata": {},
     "output_type": "display_data"
    },
    {
     "data": {
      "text/plain": [
       "False"
      ]
     },
     "execution_count": 1,
     "metadata": {},
     "output_type": "execute_result"
    }
   ],
   "execution_count": 1
  }
 ],
 "metadata": {
  "kernelspec": {
   "display_name": "Python 3",
   "language": "python",
   "name": "python3"
  },
  "language_info": {
   "codemirror_mode": {
    "name": "ipython",
    "version": 2
   },
   "file_extension": ".py",
   "mimetype": "text/x-python",
   "name": "python",
   "nbconvert_exporter": "python",
   "pygments_lexer": "ipython2",
   "version": "2.7.6"
  }
 },
 "nbformat": 4,
 "nbformat_minor": 5
}
