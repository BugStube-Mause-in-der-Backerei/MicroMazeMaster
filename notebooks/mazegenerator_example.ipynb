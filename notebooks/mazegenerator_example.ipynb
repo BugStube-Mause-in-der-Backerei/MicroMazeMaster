{
 "cells": [
  {
   "cell_type": "code",
   "id": "initial_id",
   "metadata": {
    "collapsed": true,
    "ExecuteTime": {
     "end_time": "2024-11-11T10:00:31.679568Z",
     "start_time": "2024-11-11T10:00:31.637902Z"
    }
   },
   "source": [
    "from micromazemaster.models.maze import Maze\n",
    "maze = Maze(width=10, height=5, seed=1234)\n",
    "#maze = Maze.from_json(\"C:/Workspace/Test.json\")\n",
    "\n",
    "#maze.export_as_png(\"C:/Workspace/Test.png\")\n",
    "#maze.export_as_json(\"C:/Workspace/Test.json\")\n",
    "maze.show()"
   ],
   "outputs": [],
   "execution_count": 5
  },
  {
   "metadata": {},
   "cell_type": "code",
   "outputs": [],
   "execution_count": null,
   "source": "",
   "id": "b150516d8e8b9a70"
  }
 ],
 "metadata": {
  "kernelspec": {
   "display_name": "Python 3",
   "language": "python",
   "name": "python3"
  },
  "language_info": {
   "codemirror_mode": {
    "name": "ipython",
    "version": 2
   },
   "file_extension": ".py",
   "mimetype": "text/x-python",
   "name": "python",
   "nbconvert_exporter": "python",
   "pygments_lexer": "ipython2",
   "version": "2.7.6"
  }
 },
 "nbformat": 4,
 "nbformat_minor": 5
}
