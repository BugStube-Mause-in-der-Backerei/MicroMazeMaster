{
 "cells": [
  {
   "cell_type": "code",
   "id": "initial_id",
   "metadata": {
    "collapsed": true,
    "ExecuteTime": {
     "end_time": "2024-12-05T17:38:36.570002Z",
     "start_time": "2024-12-05T17:38:35.519362Z"
    }
   },
   "source": [
    "from micromazemaster.models.maze import Maze\n",
    "from micromazemaster.models.mouse import Mouse, Orientation\n",
    "from micromazemaster.utils.backtracker import Backtracker\n",
    "\n",
    "maze = Maze(width=10, height=10, seed=42)\n",
    "mouse = Mouse(x=maze.start[0], y=maze.start[1], orientation=Orientation.EAST, maze=maze)\n",
    "\n",
    "Backtracker.doBacktracking(mouse)"
   ],
   "outputs": [
    {
     "name": "stderr",
     "output_type": "stream",
     "text": [
      "2024-12-05 18:38:35.861 - [INFO] - [ Using Environment ]\t DEVELOPMENT\n"
     ]
    },
    {
     "data": {
      "text/plain": [
       "\n",
       "\n",
       "    __  ____                 __  ___                 __  ___           __           \n",
       "   \u001B[35m/\u001B[0m  |\u001B[35m/\u001B[0m  \u001B[1m(\u001B[0m_\u001B[1m)\u001B[0m_____________  \u001B[35m/\u001B[0m  |\u001B[35m/\u001B[0m  \u001B[35m/\u001B[0m\u001B[95m___\u001B[0m _____  ___  \u001B[35m/\u001B[0m  |\u001B[35m/\u001B[0m  \u001B[35m/\u001B[0m\u001B[95m___\u001B[0m ______/ \u001B[35m/\u001B[0m\u001B[95m____\u001B[0m  _____\n",
       "  \u001B[35m/\u001B[0m \u001B[35m/\u001B[0m|_/ \u001B[35m/\u001B[0m \u001B[35m/\u001B[0m ___/ ___/ __ \\\u001B[35m/\u001B[0m \u001B[35m/\u001B[0m|_/ \u001B[35m/\u001B[0m __ `\u001B[35m/\u001B[0m\u001B[95m_\u001B[0m  \u001B[35m/\u001B[0m \u001B[35m/\u001B[0m _ \\\u001B[35m/\u001B[0m \u001B[35m/\u001B[0m|_/ \u001B[35m/\u001B[0m __ `\u001B[35m/\u001B[0m ___/ __/ _ \\\u001B[35m/\u001B[0m ___/\n",
       " \u001B[35m/\u001B[0m \u001B[35m/\u001B[0m  \u001B[35m/\u001B[0m \u001B[35m/\u001B[0m \u001B[35m/\u001B[0m \u001B[35m/__/\u001B[0m \u001B[35m/\u001B[0m  \u001B[35m/\u001B[0m \u001B[35m/_/\u001B[0m \u001B[35m/\u001B[0m \u001B[35m/\u001B[0m  \u001B[35m/\u001B[0m \u001B[35m/\u001B[0m \u001B[35m/_/\u001B[0m \u001B[35m/\u001B[0m \u001B[35m/\u001B[0m \u001B[35m/_/\u001B[0m  __/ \u001B[35m/\u001B[0m  \u001B[35m/\u001B[0m \u001B[35m/\u001B[0m \u001B[35m/_/\u001B[0m \u001B[1m(\u001B[0m__  \u001B[1m)\u001B[0m \u001B[35m/_/\u001B[0m  __/ \u001B[35m/\u001B[0m    \n",
       "\u001B[35m/_/\u001B[0m  \u001B[35m/_/_/\u001B[0m\\___/_/   \\____/_/  \u001B[35m/_/\u001B[0m\\__,_/ \u001B[35m/___/\u001B[0m\\___/_/  \u001B[35m/_/\u001B[0m\\__,_/____/\\__/\\___/_/     \n",
       "\n",
       "\u001B[1;36m0.1\u001B[0m.\u001B[1;36m0\u001B[0m\n",
       "\n"
      ],
      "text/html": [
       "<pre style=\"white-space:pre;overflow-x:auto;line-height:normal;font-family:Menlo,'DejaVu Sans Mono',consolas,'Courier New',monospace\">\n",
       "\n",
       "    __  ____                 __  ___                 __  ___           __           \n",
       "   <span style=\"color: #800080; text-decoration-color: #800080\">/</span>  |<span style=\"color: #800080; text-decoration-color: #800080\">/</span>  <span style=\"font-weight: bold\">(</span>_<span style=\"font-weight: bold\">)</span>_____________  <span style=\"color: #800080; text-decoration-color: #800080\">/</span>  |<span style=\"color: #800080; text-decoration-color: #800080\">/</span>  <span style=\"color: #800080; text-decoration-color: #800080\">/</span><span style=\"color: #ff00ff; text-decoration-color: #ff00ff\">___</span> _____  ___  <span style=\"color: #800080; text-decoration-color: #800080\">/</span>  |<span style=\"color: #800080; text-decoration-color: #800080\">/</span>  <span style=\"color: #800080; text-decoration-color: #800080\">/</span><span style=\"color: #ff00ff; text-decoration-color: #ff00ff\">___</span> ______/ <span style=\"color: #800080; text-decoration-color: #800080\">/</span><span style=\"color: #ff00ff; text-decoration-color: #ff00ff\">____</span>  _____\n",
       "  <span style=\"color: #800080; text-decoration-color: #800080\">/</span> <span style=\"color: #800080; text-decoration-color: #800080\">/</span>|_/ <span style=\"color: #800080; text-decoration-color: #800080\">/</span> <span style=\"color: #800080; text-decoration-color: #800080\">/</span> ___/ ___/ __ \\<span style=\"color: #800080; text-decoration-color: #800080\">/</span> <span style=\"color: #800080; text-decoration-color: #800080\">/</span>|_/ <span style=\"color: #800080; text-decoration-color: #800080\">/</span> __ `<span style=\"color: #800080; text-decoration-color: #800080\">/</span><span style=\"color: #ff00ff; text-decoration-color: #ff00ff\">_</span>  <span style=\"color: #800080; text-decoration-color: #800080\">/</span> <span style=\"color: #800080; text-decoration-color: #800080\">/</span> _ \\<span style=\"color: #800080; text-decoration-color: #800080\">/</span> <span style=\"color: #800080; text-decoration-color: #800080\">/</span>|_/ <span style=\"color: #800080; text-decoration-color: #800080\">/</span> __ `<span style=\"color: #800080; text-decoration-color: #800080\">/</span> ___/ __/ _ \\<span style=\"color: #800080; text-decoration-color: #800080\">/</span> ___/\n",
       " <span style=\"color: #800080; text-decoration-color: #800080\">/</span> <span style=\"color: #800080; text-decoration-color: #800080\">/</span>  <span style=\"color: #800080; text-decoration-color: #800080\">/</span> <span style=\"color: #800080; text-decoration-color: #800080\">/</span> <span style=\"color: #800080; text-decoration-color: #800080\">/</span> <span style=\"color: #800080; text-decoration-color: #800080\">/__/</span> <span style=\"color: #800080; text-decoration-color: #800080\">/</span>  <span style=\"color: #800080; text-decoration-color: #800080\">/</span> <span style=\"color: #800080; text-decoration-color: #800080\">/_/</span> <span style=\"color: #800080; text-decoration-color: #800080\">/</span> <span style=\"color: #800080; text-decoration-color: #800080\">/</span>  <span style=\"color: #800080; text-decoration-color: #800080\">/</span> <span style=\"color: #800080; text-decoration-color: #800080\">/</span> <span style=\"color: #800080; text-decoration-color: #800080\">/_/</span> <span style=\"color: #800080; text-decoration-color: #800080\">/</span> <span style=\"color: #800080; text-decoration-color: #800080\">/</span> <span style=\"color: #800080; text-decoration-color: #800080\">/_/</span>  __/ <span style=\"color: #800080; text-decoration-color: #800080\">/</span>  <span style=\"color: #800080; text-decoration-color: #800080\">/</span> <span style=\"color: #800080; text-decoration-color: #800080\">/</span> <span style=\"color: #800080; text-decoration-color: #800080\">/_/</span> <span style=\"font-weight: bold\">(</span>__  <span style=\"font-weight: bold\">)</span> <span style=\"color: #800080; text-decoration-color: #800080\">/_/</span>  __/ <span style=\"color: #800080; text-decoration-color: #800080\">/</span>    \n",
       "<span style=\"color: #800080; text-decoration-color: #800080\">/_/</span>  <span style=\"color: #800080; text-decoration-color: #800080\">/_/_/</span>\\___/_/   \\____/_/  <span style=\"color: #800080; text-decoration-color: #800080\">/_/</span>\\__,_/ <span style=\"color: #800080; text-decoration-color: #800080\">/___/</span>\\___/_/  <span style=\"color: #800080; text-decoration-color: #800080\">/_/</span>\\__,_/____/\\__/\\___/_/     \n",
       "\n",
       "<span style=\"color: #008080; text-decoration-color: #008080; font-weight: bold\">0.1</span>.<span style=\"color: #008080; text-decoration-color: #008080; font-weight: bold\">0</span>\n",
       "\n",
       "</pre>\n"
      ]
     },
     "metadata": {},
     "output_type": "display_data"
    },
    {
     "name": "stdout",
     "output_type": "stream",
     "text": [
      "(0.5, 0.5) : 1 : [True, False, False] : 1\n",
      "(0.5, 1.5) : 0 : [False, False, True] : 2\n",
      "(1.5, 1.5) : 1 : [True, False, False] : 3\n",
      "(1.5, 2.5) : 0 : [True, False, False] : 4\n",
      "(0.5, 2.5) : 3 : [False, False, True] : 5\n",
      "(0.5, 3.5) : 0 : [False, False, True] : 6\n",
      "(1.5, 3.5) : 1 : [True, False, False] : 7\n",
      "(1.5, 4.5) : 0 : [True, False, False] : 8\n",
      "(0.5, 4.5) : 3 : [False, False, True] : 9\n",
      "(0.5, 5.5) : 0 : [False, False, True] : 10\n",
      "(1.5, 5.5) : 1 : [False, True, False] : 11\n",
      "(2.5, 5.5) : 1 : [True, False, False] : 12\n",
      "(2.5, 6.5) : 0 : [True, False, False] : 13\n",
      "(1.5, 6.5) : 3 : [False, False, True] : 14\n",
      "(1.5, 7.5) : 0 : [False, False, True] : 15\n",
      "(2.5, 7.5) : 1 : [True, False, False] : 16\n",
      "(2.5, 8.5) : 0 : [True, False, False] : 17\n",
      "(1.5, 8.5) : 3 : [False, False, True] : 18\n",
      "(1.5, 9.5) : 0 : [True, False, True] : 19\n",
      "(0.5, 9.5) : 3 : [True, False, False] : 20\n",
      "(0.5, 8.5) : 2 : [False, True, False] : 21\n",
      "(0.5, 7.5) : 2 : [False, True, False] : 22\n",
      "(0.5, 6.5) : 2 : [False, False, False] : 23\n",
      "(2.5, 9.5) : 1 : [False, True, False] : 24\n",
      "(3.5, 9.5) : 1 : [False, False, True] : 25\n",
      "(3.5, 8.5) : 2 : [True, False, False] : 26\n",
      "(4.5, 8.5) : 1 : [False, True, False] : 27\n",
      "(5.5, 8.5) : 1 : [True, False, False] : 28\n",
      "(5.5, 9.5) : 0 : [True, False, True] : 29\n",
      "(4.5, 9.5) : 3 : [False, False, False] : 30\n",
      "(6.5, 9.5) : 1 : [False, True, False] : 31\n",
      "(7.5, 9.5) : 1 : [False, False, True] : 32\n",
      "(7.5, 8.5) : 2 : [False, True, False] : 33\n",
      "(7.5, 7.5) : 2 : [True, False, False] : 34\n",
      "(8.5, 7.5) : 1 : [True, False, False] : 35\n",
      "(8.5, 8.5) : 0 : [False, True, False] : 36\n",
      "(8.5, 9.5) : 0 : [False, False, True] : 37\n",
      "(9.5, 9.5) : 1 : [False, False, True] : 38\n",
      "(9.5, 8.5) : 2 : [False, True, False] : 39\n",
      "(9.5, 7.5) : 2 : [False, True, False] : 40\n",
      "(9.5, 6.5) : 2 : [False, False, True] : 41\n",
      "(8.5, 6.5) : 3 : [True, False, False] : 42\n",
      "(8.5, 5.5) : 2 : [False, True, False] : 43\n",
      "(8.5, 4.5) : 2 : [False, False, True] : 44\n",
      "(7.5, 4.5) : 3 : [False, False, True] : 45\n",
      "(7.5, 5.5) : 0 : [True, False, False] : 46\n",
      "(6.5, 5.5) : 3 : [False, False, True] : 47\n",
      "(6.5, 6.5) : 0 : [True, False, True] : 48\n",
      "(5.5, 6.5) : 3 : [False, True, False] : 49\n",
      "(4.5, 6.5) : 3 : [True, False, False] : 50\n",
      "(4.5, 5.5) : 2 : [False, True, False] : 51\n",
      "(4.5, 4.5) : 2 : [True, False, False] : 52\n",
      "(5.5, 4.5) : 1 : [True, True, False] : 53\n",
      "(5.5, 5.5) : 0 : [False, False, False] : 54\n",
      "(6.5, 4.5) : 1 : [False, False, True] : 55\n",
      "(6.5, 3.5) : 2 : [False, True, False] : 56\n",
      "(6.5, 2.5) : 2 : [False, False, True] : 57\n",
      "(5.5, 2.5) : 3 : [False, False, True] : 58\n",
      "(5.5, 3.5) : 0 : [True, False, False] : 59\n",
      "(4.5, 3.5) : 3 : [False, True, False] : 60\n",
      "(3.5, 3.5) : 3 : [False, True, False] : 61\n",
      "(2.5, 3.5) : 3 : [True, False, True] : 62\n",
      "(2.5, 2.5) : 2 : [False, True, False] : 63\n",
      "(2.5, 1.5) : 2 : [True, False, False] : 64\n",
      "(3.5, 1.5) : 1 : [False, False, True] : 65\n",
      "(3.5, 0.5) : 2 : [True, False, True] : 66\n",
      "(4.5, 0.5) : 1 : [False, True, False] : 67\n",
      "(5.5, 0.5) : 1 : [False, True, False] : 68\n",
      "(6.5, 0.5) : 1 : [True, False, False] : 69\n",
      "(6.5, 1.5) : 0 : [True, False, True] : 70\n",
      "(5.5, 1.5) : 3 : [False, True, False] : 71\n",
      "(4.5, 1.5) : 3 : [False, False, True] : 72\n",
      "(4.5, 2.5) : 0 : [True, False, False] : 73\n",
      "(3.5, 2.5) : 3 : [False, False, False] : 74\n",
      "(7.5, 1.5) : 1 : [False, True, False] : 75\n",
      "(8.5, 1.5) : 1 : [False, True, False] : 76\n",
      "(9.5, 1.5) : 1 : [True, False, True] : 77\n",
      "(9.5, 2.5) : 0 : [False, True, False] : 78\n",
      "(9.5, 3.5) : 0 : [True, True, False] : 79\n",
      "(8.5, 3.5) : 3 : [True, False, False] : 80\n",
      "(8.5, 2.5) : 2 : [False, False, True] : 81\n",
      "(7.5, 2.5) : 3 : [False, False, True] : 82\n",
      "(7.5, 3.5) : 0 : [False, False, False] : 83\n",
      "(9.5, 4.5) : 0 : [False, True, False] : 84\n",
      "(9.5, 5.5) : 0 : [False, False, False] : 85\n",
      "(9.5, 0.5) : 2 : [False, False, True] : 86\n",
      "(8.5, 0.5) : 3 : [False, True, False] : 87\n",
      "(7.5, 0.5) : 3 : [False, False, False] : 88\n",
      "(2.5, 0.5) : 3 : [False, True, False] : 89\n"
     ]
    },
    {
     "data": {
      "text/plain": [
       "1"
      ]
     },
     "execution_count": 1,
     "metadata": {},
     "output_type": "execute_result"
    }
   ],
   "execution_count": 1
  }
 ],
 "metadata": {
  "kernelspec": {
   "display_name": "Python 3",
   "language": "python",
   "name": "python3"
  },
  "language_info": {
   "codemirror_mode": {
    "name": "ipython",
    "version": 2
   },
   "file_extension": ".py",
   "mimetype": "text/x-python",
   "name": "python",
   "nbconvert_exporter": "python",
   "pygments_lexer": "ipython2",
   "version": "2.7.6"
  }
 },
 "nbformat": 4,
 "nbformat_minor": 5
}
