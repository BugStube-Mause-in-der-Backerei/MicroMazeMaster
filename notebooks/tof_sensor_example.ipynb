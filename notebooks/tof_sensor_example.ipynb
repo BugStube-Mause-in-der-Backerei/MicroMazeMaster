{
 "cells": [
  {
   "cell_type": "markdown",
   "metadata": {},
   "source": [
    "# Import Required Libraries\n",
    "Import necessary libraries, including matplotlib and the Maze and TOFSensor classes."
   ]
  },
  {
   "cell_type": "code",
   "execution_count": 1,
   "metadata": {},
   "outputs": [
    {
     "name": "stderr",
     "output_type": "stream",
     "text": [
      "2024-11-19 17:52:15.033 - [INFO] - [ Using Environment ]\t DEVELOPMENT\n"
     ]
    },
    {
     "data": {
      "text/html": [
       "<pre style=\"white-space:pre;overflow-x:auto;line-height:normal;font-family:Menlo,'DejaVu Sans Mono',consolas,'Courier New',monospace\">\n",
       "\n",
       "    __  ____                 __  ___                 __  ___           __           \n",
       "   <span style=\"color: #800080; text-decoration-color: #800080\">/</span>  |<span style=\"color: #800080; text-decoration-color: #800080\">/</span>  <span style=\"font-weight: bold\">(</span>_<span style=\"font-weight: bold\">)</span>_____________  <span style=\"color: #800080; text-decoration-color: #800080\">/</span>  |<span style=\"color: #800080; text-decoration-color: #800080\">/</span>  <span style=\"color: #800080; text-decoration-color: #800080\">/</span><span style=\"color: #ff00ff; text-decoration-color: #ff00ff\">___</span> _____  ___  <span style=\"color: #800080; text-decoration-color: #800080\">/</span>  |<span style=\"color: #800080; text-decoration-color: #800080\">/</span>  <span style=\"color: #800080; text-decoration-color: #800080\">/</span><span style=\"color: #ff00ff; text-decoration-color: #ff00ff\">___</span> ______/ <span style=\"color: #800080; text-decoration-color: #800080\">/</span><span style=\"color: #ff00ff; text-decoration-color: #ff00ff\">____</span>  _____\n",
       "  <span style=\"color: #800080; text-decoration-color: #800080\">/</span> <span style=\"color: #800080; text-decoration-color: #800080\">/</span>|_/ <span style=\"color: #800080; text-decoration-color: #800080\">/</span> <span style=\"color: #800080; text-decoration-color: #800080\">/</span> ___/ ___/ __ \\<span style=\"color: #800080; text-decoration-color: #800080\">/</span> <span style=\"color: #800080; text-decoration-color: #800080\">/</span>|_/ <span style=\"color: #800080; text-decoration-color: #800080\">/</span> __ `<span style=\"color: #800080; text-decoration-color: #800080\">/</span><span style=\"color: #ff00ff; text-decoration-color: #ff00ff\">_</span>  <span style=\"color: #800080; text-decoration-color: #800080\">/</span> <span style=\"color: #800080; text-decoration-color: #800080\">/</span> _ \\<span style=\"color: #800080; text-decoration-color: #800080\">/</span> <span style=\"color: #800080; text-decoration-color: #800080\">/</span>|_/ <span style=\"color: #800080; text-decoration-color: #800080\">/</span> __ `<span style=\"color: #800080; text-decoration-color: #800080\">/</span> ___/ __/ _ \\<span style=\"color: #800080; text-decoration-color: #800080\">/</span> ___/\n",
       " <span style=\"color: #800080; text-decoration-color: #800080\">/</span> <span style=\"color: #800080; text-decoration-color: #800080\">/</span>  <span style=\"color: #800080; text-decoration-color: #800080\">/</span> <span style=\"color: #800080; text-decoration-color: #800080\">/</span> <span style=\"color: #800080; text-decoration-color: #800080\">/</span> <span style=\"color: #800080; text-decoration-color: #800080\">/__/</span> <span style=\"color: #800080; text-decoration-color: #800080\">/</span>  <span style=\"color: #800080; text-decoration-color: #800080\">/</span> <span style=\"color: #800080; text-decoration-color: #800080\">/_/</span> <span style=\"color: #800080; text-decoration-color: #800080\">/</span> <span style=\"color: #800080; text-decoration-color: #800080\">/</span>  <span style=\"color: #800080; text-decoration-color: #800080\">/</span> <span style=\"color: #800080; text-decoration-color: #800080\">/</span> <span style=\"color: #800080; text-decoration-color: #800080\">/_/</span> <span style=\"color: #800080; text-decoration-color: #800080\">/</span> <span style=\"color: #800080; text-decoration-color: #800080\">/</span> <span style=\"color: #800080; text-decoration-color: #800080\">/_/</span>  __/ <span style=\"color: #800080; text-decoration-color: #800080\">/</span>  <span style=\"color: #800080; text-decoration-color: #800080\">/</span> <span style=\"color: #800080; text-decoration-color: #800080\">/</span> <span style=\"color: #800080; text-decoration-color: #800080\">/_/</span> <span style=\"font-weight: bold\">(</span>__  <span style=\"font-weight: bold\">)</span> <span style=\"color: #800080; text-decoration-color: #800080\">/_/</span>  __/ <span style=\"color: #800080; text-decoration-color: #800080\">/</span>    \n",
       "<span style=\"color: #800080; text-decoration-color: #800080\">/_/</span>  <span style=\"color: #800080; text-decoration-color: #800080\">/_/_/</span>\\___/_/   \\____/_/  <span style=\"color: #800080; text-decoration-color: #800080\">/_/</span>\\__,_/ <span style=\"color: #800080; text-decoration-color: #800080\">/___/</span>\\___/_/  <span style=\"color: #800080; text-decoration-color: #800080\">/_/</span>\\__,_/____/\\__/\\___/_/     \n",
       "\n",
       "<span style=\"color: #008080; text-decoration-color: #008080; font-weight: bold\">0.1</span>.<span style=\"color: #008080; text-decoration-color: #008080; font-weight: bold\">0</span>\n",
       "\n",
       "</pre>\n"
      ],
      "text/plain": [
       "\n",
       "\n",
       "    __  ____                 __  ___                 __  ___           __           \n",
       "   \u001b[35m/\u001b[0m  |\u001b[35m/\u001b[0m  \u001b[1m(\u001b[0m_\u001b[1m)\u001b[0m_____________  \u001b[35m/\u001b[0m  |\u001b[35m/\u001b[0m  \u001b[35m/\u001b[0m\u001b[95m___\u001b[0m _____  ___  \u001b[35m/\u001b[0m  |\u001b[35m/\u001b[0m  \u001b[35m/\u001b[0m\u001b[95m___\u001b[0m ______/ \u001b[35m/\u001b[0m\u001b[95m____\u001b[0m  _____\n",
       "  \u001b[35m/\u001b[0m \u001b[35m/\u001b[0m|_/ \u001b[35m/\u001b[0m \u001b[35m/\u001b[0m ___/ ___/ __ \\\u001b[35m/\u001b[0m \u001b[35m/\u001b[0m|_/ \u001b[35m/\u001b[0m __ `\u001b[35m/\u001b[0m\u001b[95m_\u001b[0m  \u001b[35m/\u001b[0m \u001b[35m/\u001b[0m _ \\\u001b[35m/\u001b[0m \u001b[35m/\u001b[0m|_/ \u001b[35m/\u001b[0m __ `\u001b[35m/\u001b[0m ___/ __/ _ \\\u001b[35m/\u001b[0m ___/\n",
       " \u001b[35m/\u001b[0m \u001b[35m/\u001b[0m  \u001b[35m/\u001b[0m \u001b[35m/\u001b[0m \u001b[35m/\u001b[0m \u001b[35m/__/\u001b[0m \u001b[35m/\u001b[0m  \u001b[35m/\u001b[0m \u001b[35m/_/\u001b[0m \u001b[35m/\u001b[0m \u001b[35m/\u001b[0m  \u001b[35m/\u001b[0m \u001b[35m/\u001b[0m \u001b[35m/_/\u001b[0m \u001b[35m/\u001b[0m \u001b[35m/\u001b[0m \u001b[35m/_/\u001b[0m  __/ \u001b[35m/\u001b[0m  \u001b[35m/\u001b[0m \u001b[35m/\u001b[0m \u001b[35m/_/\u001b[0m \u001b[1m(\u001b[0m__  \u001b[1m)\u001b[0m \u001b[35m/_/\u001b[0m  __/ \u001b[35m/\u001b[0m    \n",
       "\u001b[35m/_/\u001b[0m  \u001b[35m/_/_/\u001b[0m\\___/_/   \\____/_/  \u001b[35m/_/\u001b[0m\\__,_/ \u001b[35m/___/\u001b[0m\\___/_/  \u001b[35m/_/\u001b[0m\\__,_/____/\\__/\\___/_/     \n",
       "\n",
       "\u001b[1;36m0.1\u001b[0m.\u001b[1;36m0\u001b[0m\n",
       "\n"
      ]
     },
     "metadata": {},
     "output_type": "display_data"
    }
   ],
   "source": [
    "# Import Required Libraries\n",
    "import matplotlib.pyplot as plt\n",
    "from micromazemaster.models.maze import Maze\n",
    "from micromazemaster.utils.sensors.tof import TOFSensor"
   ]
  },
  {
   "cell_type": "markdown",
   "metadata": {},
   "source": [
    "# Initialize the Maze\n",
    "Create an instance of the Maze class with specified dimensions and seed."
   ]
  },
  {
   "cell_type": "code",
   "execution_count": 2,
   "metadata": {},
   "outputs": [],
   "source": [
    "# Initialize the Maze\n",
    "maze = Maze(width=10, height=10, seed=42)"
   ]
  },
  {
   "cell_type": "markdown",
   "metadata": {},
   "source": [
    "# Initialize the Sensor\n",
    "Create an instance of the TOFSensor class with specified position, angle, and max distance."
   ]
  },
  {
   "cell_type": "code",
   "execution_count": 3,
   "metadata": {},
   "outputs": [],
   "source": [
    "mouse_angle = 0\n",
    "# Initialize the Sensor\n",
    "sensors = [\n",
    "  TOFSensor(x=0.5, y=0.5, angle=0+mouse_angle, max_distance=10),\n",
    "  TOFSensor(x=0.5, y=0.5, angle=55+mouse_angle, max_distance=10),\n",
    "  TOFSensor(x=0.5, y=0.5, angle=-55+mouse_angle, max_distance=10)\n",
    "]"
   ]
  },
  {
   "cell_type": "markdown",
   "metadata": {},
   "source": [
    "# Plot the Maze and Sensor Position\n",
    "Use matplotlib to plot the maze and the sensor position as a circle."
   ]
  },
  {
   "cell_type": "code",
   "execution_count": 4,
   "metadata": {},
   "outputs": [
    {
     "name": "stdout",
     "output_type": "stream",
     "text": [
      "Sensor at (0.5, 0.5) with angle 0: Distance to the wall = 4187.5 mm\n",
      "Sensor at (0.5, 0.5) with angle 55: Distance to the wall = 1022.3987180877194 mm\n",
      "Sensor at (0.5, 0.5) with angle -55: Distance to the wall = 1022.3987180877194 mm\n"
     ]
    },
    {
     "data": {
      "image/png": "[encoded data removed]",
      "text/plain": [
       "<Figure size 1000x1000 with 1 Axes>"
      ]
     },
     "metadata": {},
     "output_type": "display_data"
    }
   ],
   "source": [
    "fig, ax = maze.plot()\n",
    "\n",
    "for sensor in sensors:\n",
    "    distance, intersection_point = sensor.get_distance(maze)\n",
    "    ax.plot([sensor.x, intersection_point.x], [sensor.y, intersection_point.y], 'r--', label='Ray')\n",
    "    print(f\"Sensor at ({sensor.x}, {sensor.y}) with angle {sensor.angle}: Distance to the wall = {distance} mm\")\n",
    "\n",
    "ax.plot(sensor.x, sensor.y, 'bo', label='Sensor', markersize=20)\n",
    "\n",
    "plt.xticks(range(0, 11))\n",
    "plt.yticks(range(0, 11))\n",
    "plt.grid()\n",
    "plt.axis(\"on\")\n",
    "plt.show()"
   ]
  }
 ],
 "metadata": {
  "kernelspec": {
   "display_name": ".venv",
   "language": "python",
   "name": "python3"
  },
  "language_info": {
   "codemirror_mode": {
    "name": "ipython",
    "version": 3
   },
   "file_extension": ".py",
   "mimetype": "text/x-python",
   "name": "python",
   "nbconvert_exporter": "python",
   "pygments_lexer": "ipython3",
   "version": "3.12.7"
  }
 },
 "nbformat": 4,
 "nbformat_minor": 2
}
